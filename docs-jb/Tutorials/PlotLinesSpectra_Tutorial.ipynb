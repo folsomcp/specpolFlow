{
 "cells": [
  {
   "cell_type": "markdown",
   "id": "f6998bd1",
   "metadata": {},
   "source": [
    "# Plotting line lists and spectra\n",
    "\n",
    "This tutorial demonstrates how to use a few convenience plotting functions in SpecpolFlow.  \n",
    "\n",
    "The plots these functions generate are pretty good, particularly for a quick look.  However, for more advanced plots you may wish to make your own plots from scratch.  For plotting line lists, there are wide variety of approaches one can use, and you may wish to consider using alternative packages such as `lineid_plot` (see their [webpage](https://lineid-plot.readthedocs.io/) and [GitHub](https://github.com/phn/lineid_plot/)).\n",
    "\n",
    "## A quick look from the command line\n",
    "\n",
    "## The plot_obs_lines function\n",
    "\n",
    "\n",
    "\n",
    "First import `specpolFlow` and any other packages."
   ]
  },
  {
   "cell_type": "code",
   "execution_count": null,
   "id": "5ae85e43",
   "metadata": {
    "tags": [
     "hide-cell"
    ]
   },
   "outputs": [],
   "source": [
    "## Importing Necessary Packages\n",
    "import specpolFlow as pol"
   ]
  }
 ],
 "metadata": {
  "kernelspec": {
   "display_name": "base",
   "language": "python",
   "name": "python3"
  },
  "language_info": {
   "name": "python",
   "version": "3.12.3"
  }
 },
 "nbformat": 4,
 "nbformat_minor": 5
}

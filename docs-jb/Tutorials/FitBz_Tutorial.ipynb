{
 "cells": [
  {
   "cell_type": "markdown",
   "metadata": {},
   "source": [
    "# How to fit the longitudinal magnetic field curve"
   ]
  },
  {
   "cell_type": "markdown",
   "metadata": {},
   "source": [
    "A harmonic fit to the longitudinal magnetic field curve can provide an estimate of the stellar rotation period.\n",
    "\n",
    "First, import the Bz data you saved in the previous step."
   ]
  },
  {
   "cell_type": "markdown",
   "metadata": {},
   "source": [
    ":::{admonition} Have you calculated the Bz values yet?\n",
    "If not, see the [](../Tutorials/6-CalculateBz_Tutorial.ipynb) page. \n",
    ":::\n",
    " \n"
   ]
  },
  {
   "cell_type": "code",
   "execution_count": 1,
   "metadata": {},
   "outputs": [],
   "source": [
    "import specpolFlow as pol\n",
    "import pandas as pd"
   ]
  },
  {
   "cell_type": "code",
   "execution_count": 4,
   "metadata": {},
   "outputs": [
    {
     "data": {
      "text/html": [
       "<style type=\"text/css\">\n",
       "</style>\n",
       "<table id=\"T_f4280\">\n",
       "  <thead>\n",
       "    <tr>\n",
       "      <th class=\"blank level0\" >&nbsp;</th>\n",
       "      <th id=\"T_f4280_level0_col0\" class=\"col_heading level0 col0\" >Unnamed: 0</th>\n",
       "      <th id=\"T_f4280_level0_col1\" class=\"col_heading level0 col1\" >Observation</th>\n",
       "      <th id=\"T_f4280_level0_col2\" class=\"col_heading level0 col2\" >Filename</th>\n",
       "      <th id=\"T_f4280_level0_col3\" class=\"col_heading level0 col3\" >V bz (G)</th>\n",
       "      <th id=\"T_f4280_level0_col4\" class=\"col_heading level0 col4\" >V bz sig (G)</th>\n",
       "      <th id=\"T_f4280_level0_col5\" class=\"col_heading level0 col5\" >V FAP</th>\n",
       "      <th id=\"T_f4280_level0_col6\" class=\"col_heading level0 col6\" >N1 bz (G)</th>\n",
       "      <th id=\"T_f4280_level0_col7\" class=\"col_heading level0 col7\" >N1 bz sig (G)</th>\n",
       "      <th id=\"T_f4280_level0_col8\" class=\"col_heading level0 col8\" >N1 FAP</th>\n",
       "      <th id=\"T_f4280_level0_col9\" class=\"col_heading level0 col9\" >N2 bz (G)</th>\n",
       "      <th id=\"T_f4280_level0_col10\" class=\"col_heading level0 col10\" >N2 bz sig (G)</th>\n",
       "      <th id=\"T_f4280_level0_col11\" class=\"col_heading level0 col11\" >N2 FAP</th>\n",
       "      <th id=\"T_f4280_level0_col12\" class=\"col_heading level0 col12\" >norm_method</th>\n",
       "      <th id=\"T_f4280_level0_col13\" class=\"col_heading level0 col13\" >norm</th>\n",
       "      <th id=\"T_f4280_level0_col14\" class=\"col_heading level0 col14\" >cog_method</th>\n",
       "      <th id=\"T_f4280_level0_col15\" class=\"col_heading level0 col15\" >cog</th>\n",
       "      <th id=\"T_f4280_level0_col16\" class=\"col_heading level0 col16\" >int. range start</th>\n",
       "      <th id=\"T_f4280_level0_col17\" class=\"col_heading level0 col17\" >int. range end</th>\n",
       "    </tr>\n",
       "  </thead>\n",
       "  <tbody>\n",
       "    <tr>\n",
       "      <th id=\"T_f4280_level0_row0\" class=\"row_heading level0 row0\" >0</th>\n",
       "      <td id=\"T_f4280_row0_col0\" class=\"data row0 col0\" >0</td>\n",
       "      <td id=\"T_f4280_row0_col1\" class=\"data row0 col1\" >star 1</td>\n",
       "      <td id=\"T_f4280_row0_col2\" class=\"data row0 col2\" >CalculateBz_tutorialfiles/SampleLSD.lsd</td>\n",
       "      <td id=\"T_f4280_row0_col3\" class=\"data row0 col3\" >94.584944</td>\n",
       "      <td id=\"T_f4280_row0_col4\" class=\"data row0 col4\" >6.278508</td>\n",
       "      <td id=\"T_f4280_row0_col5\" class=\"data row0 col5\" >0.000000</td>\n",
       "      <td id=\"T_f4280_row0_col6\" class=\"data row0 col6\" >4.848727</td>\n",
       "      <td id=\"T_f4280_row0_col7\" class=\"data row0 col7\" >6.148771</td>\n",
       "      <td id=\"T_f4280_row0_col8\" class=\"data row0 col8\" >0.761063</td>\n",
       "      <td id=\"T_f4280_row0_col9\" class=\"data row0 col9\" >0.000000</td>\n",
       "      <td id=\"T_f4280_row0_col10\" class=\"data row0 col10\" >0.000000</td>\n",
       "      <td id=\"T_f4280_row0_col11\" class=\"data row0 col11\" >0.000000</td>\n",
       "      <td id=\"T_f4280_row0_col12\" class=\"data row0 col12\" >auto</td>\n",
       "      <td id=\"T_f4280_row0_col13\" class=\"data row0 col13\" >0.996810</td>\n",
       "      <td id=\"T_f4280_row0_col14\" class=\"data row0 col14\" >I</td>\n",
       "      <td id=\"T_f4280_row0_col15\" class=\"data row0 col15\" >53.617944</td>\n",
       "      <td id=\"T_f4280_row0_col16\" class=\"data row0 col16\" >28.617944</td>\n",
       "      <td id=\"T_f4280_row0_col17\" class=\"data row0 col17\" >78.617944</td>\n",
       "    </tr>\n",
       "    <tr>\n",
       "      <th id=\"T_f4280_level0_row1\" class=\"row_heading level0 row1\" >1</th>\n",
       "      <td id=\"T_f4280_row1_col0\" class=\"data row1 col0\" >1</td>\n",
       "      <td id=\"T_f4280_row1_col1\" class=\"data row1 col1\" >star 2</td>\n",
       "      <td id=\"T_f4280_row1_col2\" class=\"data row1 col2\" >CalculateBz_tutorialfiles/SampleLSD2.lsd</td>\n",
       "      <td id=\"T_f4280_row1_col3\" class=\"data row1 col3\" >32.111990</td>\n",
       "      <td id=\"T_f4280_row1_col4\" class=\"data row1 col4\" >10.562343</td>\n",
       "      <td id=\"T_f4280_row1_col5\" class=\"data row1 col5\" >0.002714</td>\n",
       "      <td id=\"T_f4280_row1_col6\" class=\"data row1 col6\" >-0.484883</td>\n",
       "      <td id=\"T_f4280_row1_col7\" class=\"data row1 col7\" >10.561599</td>\n",
       "      <td id=\"T_f4280_row1_col8\" class=\"data row1 col8\" >0.845782</td>\n",
       "      <td id=\"T_f4280_row1_col9\" class=\"data row1 col9\" >0.000000</td>\n",
       "      <td id=\"T_f4280_row1_col10\" class=\"data row1 col10\" >0.000000</td>\n",
       "      <td id=\"T_f4280_row1_col11\" class=\"data row1 col11\" >0.000000</td>\n",
       "      <td id=\"T_f4280_row1_col12\" class=\"data row1 col12\" >auto</td>\n",
       "      <td id=\"T_f4280_row1_col13\" class=\"data row1 col13\" >0.995230</td>\n",
       "      <td id=\"T_f4280_row1_col14\" class=\"data row1 col14\" >I</td>\n",
       "      <td id=\"T_f4280_row1_col15\" class=\"data row1 col15\" >22.428587</td>\n",
       "      <td id=\"T_f4280_row1_col16\" class=\"data row1 col16\" >2.428587</td>\n",
       "      <td id=\"T_f4280_row1_col17\" class=\"data row1 col17\" >42.428587</td>\n",
       "    </tr>\n",
       "  </tbody>\n",
       "</table>\n"
      ],
      "text/plain": [
       "<pandas.io.formats.style.Styler at 0x11eaf3950>"
      ]
     },
     "execution_count": 4,
     "metadata": {},
     "output_type": "execute_result"
    }
   ],
   "source": [
    "Bz_table = pd.read_csv('CalculateBz_tutorialfiles/BzTable.csv')\n",
    "\n",
    "# display the table\n",
    "Bz_table.style"
   ]
  },
  {
   "cell_type": "markdown",
   "metadata": {},
   "source": []
  }
 ],
 "metadata": {
  "kernelspec": {
   "display_name": "base",
   "language": "python",
   "name": "python3"
  },
  "language_info": {
   "codemirror_mode": {
    "name": "ipython",
    "version": 3
   },
   "file_extension": ".py",
   "mimetype": "text/x-python",
   "name": "python",
   "nbconvert_exporter": "python",
   "pygments_lexer": "ipython3",
   "version": "3.12.2"
  }
 },
 "nbformat": 4,
 "nbformat_minor": 2
}

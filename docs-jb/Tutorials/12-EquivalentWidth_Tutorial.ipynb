{
 "cells": [
  {
   "cell_type": "markdown",
   "metadata": {},
   "source": [
    "# How to compute equivalent widths\n",
    "\n",
    "The equivalent width (EW) of a line is a useful characteristic for describing the strength of a spectral feature. EWs have specific use-cases in the study of different objects; for example, [the EW of the Balmer alpha transition in T Tauri stars is used to classify them as being classical or weak-lined](https://onlinelibrary.wiley.com/doi/book/10.1002/9783527618675).\n",
    "\n",
    "The EW is defined as:\n",
    "\n",
    "$$EW = \\sum \\frac{F_c - F_\\lambda}{F_c} d\\lambda,$$\n",
    "\n",
    "where $F_c$ is the continuum, $F_\\lambda$ is the line profile, and $d\\lambda$ is the sampling. In this code, the EW and it's uncertainty is reported in units of the `lambda0` you input."
   ]
  },
  {
   "cell_type": "code",
   "execution_count": null,
   "metadata": {},
   "outputs": [],
   "source": [
    "import specpolFlow_2 as pol\n",
    "\n",
    "import pandas as pd\n",
    "import matplotlib.pyplot as plt"
   ]
  },
  {
   "cell_type": "markdown",
   "metadata": {},
   "source": [
    "Below, we calculate the EW for the H $\\alpha$ line for our test star, an active cool BP T Tauri. We start be loading in the UPENA normalized spectrum ([IndividualLine_tutorialfiles/1423137pn.s](https://github.com/folsomcp/specpolFlow/blob/main/docs-jb/Tutorials/IndividualLine_tutorialfiles/1423137pn.s)) and zooming in on the line in question."
   ]
  },
  {
   "cell_type": "code",
   "execution_count": null,
   "metadata": {},
   "outputs": [],
   "source": [
    "# creating a line profile from just the Ha line\n",
    "# see `How analyze individual spectral lines` or `7-IndividualLine_Tutorial.ipynb` for mor info\n",
    "\n",
    "spec = pol.read_spectrum(\"IndividualLine_tutorialfiles/1423137pn.s\")\n",
    "prof = spec.individual_line(lambda0 = 656.3, lwidth = 1.2)\n",
    "\n",
    "fig, axes = prof.plot()\n",
    "axes[-1].axhline(1, color ='k', ls = '--')"
   ]
  },
  {
   "cell_type": "markdown",
   "metadata": {},
   "source": [
    "`calc_ew` takes in the above LSD object and the following parameters:\n",
    "- `cog` - value or calculation method for the center of gravity; if not specified, will default to the cog of the Stokes I profile.\n",
    "- `norm` - calculation method for the continuum; the default here is `auto` but you can use a differnt method or set it to a specific value, too.\n",
    "- `lambda0` -  the wavelength of the line center - this should be the same `lambda0` used to generate `prof` \n",
    "- `velrange` - the range of velocity used for the determination of the line center and the continuum; if none is given, this will default to the full range\n",
    "- `ewwidth` - the distance from the line center for the EW calculation; if one value is given, the range will be +/- this value from the center of the line, if two values are given, these will be the bounds of the integral. If no value is given, this will default to the `velrange`. Since we are working from the LSD object, our `ewwidth` is in velocity units (km/s).\n",
    "- `fullOutput` - bool; if `True` (default), the output will return the EW _and_ its error\n",
    "- `plot` - bool; if `True` (default), the output will return a plot \n",
    "\n",
    "Below, we are specifying the `lambda0` in Ångstrom (so that the EW is returned in Ångstrom), `norm`, `ewwidth`, and letting the `velrange` default to that of the LSD object above. "
   ]
  },
  {
   "cell_type": "code",
   "execution_count": null,
   "metadata": {},
   "outputs": [],
   "source": [
    "# to return the EW and its error, set fullOutput=True\n",
    "\n",
    "equivWidth = prof.calc_ew(lambda0 = 6563, norm = 1, velrange = None, ewwidth = 400)\n",
    "\n",
    "print(\"The equivalent width of this line is ({:.2f} +/- {:.2f}) Å.\".format(equivWidth[0], equivWidth[1]))"
   ]
  },
  {
   "cell_type": "markdown",
   "metadata": {},
   "source": [
    "This value is negative since this line is in emission; lines in absorbtion will be positive. Part of the traditional definition of a Classical T Tauri star (as opposed to a weak-line T Tauri star) is that the equivalent width of H $\\alpha$ is greater than 10 Å (in this code, less than -10 Å). As we can see above, BP Tau seems like a Classical T Tauri star! For more information on BP Tau, check out [this paper](https://academic.oup.com/mnras/article/386/3/1234/1057083)."
   ]
  },
  {
   "cell_type": "markdown",
   "metadata": {},
   "source": [
    "Another useful quality is the _V/R_ or _Violet over Red_ ratio. Calculating this is the same as using `calc_ew`..."
   ]
  },
  {
   "cell_type": "code",
   "execution_count": null,
   "metadata": {},
   "outputs": [],
   "source": [
    "V_R = prof.calc_V_R(norm = 1, velrange = None, ewwidth = 400)\n",
    "\n",
    "print(\"The V/R of this line is {:.2f} +/- {:.2f}.\".format(V_R[0], V_R[1]))"
   ]
  },
  {
   "cell_type": "markdown",
   "metadata": {},
   "source": [
    "This metric is useful for checking the asymmetry of a line; for another tool that quantifies asymmetry, check out our [Line Bisector](https://folsomcp.github.io/specpolFlow/Tutorials/8-CalculateBisector_Tutorial.html) tutorial!"
   ]
  }
 ],
 "metadata": {
  "interpreter": {
   "hash": "294a0b9bfc79ce88e29f56e11670a78bb3a231581d3d3954ad0b1fa1a01a617d"
  },
  "kernelspec": {
   "display_name": "Python 3.9.7 64-bit ('base': conda)",
   "name": "python3"
  },
  "language_info": {
   "codemirror_mode": {
    "name": "ipython",
    "version": 3
   },
   "file_extension": ".py",
   "mimetype": "text/x-python",
   "name": "python",
   "nbconvert_exporter": "python",
   "pygments_lexer": "ipython3",
   "version": "3.9.7"
  },
  "orig_nbformat": 4
 },
 "nbformat": 4,
 "nbformat_minor": 2
}

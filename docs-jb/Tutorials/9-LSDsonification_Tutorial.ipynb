{
 "cells": [
  {
   "cell_type": "markdown",
   "id": "16b0f70c",
   "metadata": {},
   "source": [
    "# Sonifying LSD profiles\n",
    "\n",
    "The sonification of images is one way to diversify the accessibility of astrophysical data.  The idea is to produce an audio representation of data in addition to a visual representation.\n",
    "\n",
    ":::{margin}\n",
    "You can check out more efforts to sonify astronomy at NASA's [Sonifications](https://science.nasa.gov/mission/hubble/multimedia/sonifications/) page!\n",
    ":::\n",
    "\n",
    "Here we provide an example of how to sonify an LSD profile."
   ]
  },
  {
   "cell_type": "markdown",
   "id": "10d009c7",
   "metadata": {},
   "source": [
    ":::{caution}\n",
    "This tutorial uses the `astronify` package, which will need to be installed separately.  \n",
    "You can read more about `astronify` [here](https://astronify.readthedocs.io/en/latest/index.html).\n",
    ":::"
   ]
  },
  {
   "cell_type": "markdown",
   "metadata": {},
   "source": [
    "## 0. Import specpolFlow, astronify, and other packages"
   ]
  },
  {
   "cell_type": "code",
   "execution_count": null,
   "id": "83d23d40",
   "metadata": {},
   "outputs": [],
   "source": [
    "import astronify as snd\n",
    "import specpolFlow as pol\n",
    "from astropy.table import Table\n",
    "import numpy as np"
   ]
  },
  {
   "cell_type": "markdown",
   "metadata": {},
   "source": [
    "## 1. `sono_lsd` Function\n",
    "\n",
    "First we define the function `sono_lsd`, which uses the `astronify` package.  Feel free to modify this function for your specific data!"
   ]
  },
  {
   "cell_type": "code",
   "execution_count": 1,
   "id": "19beb50c",
   "metadata": {},
   "outputs": [],
   "source": [
    "def sono_lsd(lsd):\n",
    "    ''' \n",
    "    Creates a sonification of a LSD profile object. \n",
    "    '''\n",
    "\n",
    "    # The astronify package requires astropy tables. \n",
    "    # data_table_I = Table({\"vel\":lsd.vel, \"Stokes\":lsd.specI})\n",
    "    # data_table_N1 = Table({\"vel\":lsd.vel, \"Stokes\":lsd.specN1})\n",
    "    # data_table_V = Table({\"vel\":lsd.vel, \"Stokes\":lsd.specV})\n",
    "\n",
    "    sigmaN = np.std(lsd.specN1) # The stdev of N1:\n",
    "    maxV = np.max(np.abs(lsd.specV)) # The max of V\n",
    "    # We clip the sound range at either 5 times the deviation of N\n",
    "    # (in the case where StokesV is not detected) \n",
    "    # or to the max value of Stokes V\n",
    "    clip = np.max([5*sigmaN, maxV])\n",
    "\n",
    "    data_table = Table({\"vel\":lsd.vel, \"stokes\":lsd.specI})\n",
    "    data_soni = snd.series.SoniSeries(data_table, time_col='vel', val_col='stokes')\n",
    "    data_soni.note_spacing = 0.02\n",
    "    data_soni.pitch_mapper.pitch_map_args[\"zero_point\"] = 1.0\n",
    "    data_soni.pitch_mapper.pitch_map_args['minmax_value'] = [0.5, 1.5]\n",
    "    data_soni.pitch_mapper.pitch_map_args['pitch_range'] = [100, 700]\n",
    "    data_soni.pitch_mapper.pitch_map_args['center_pitch'] = 400\n",
    "    data_soni.sonify()\n",
    "    data_soni.play() \n",
    "    data_soni.write('I.wav')\n",
    "\n",
    "    for i, Stokes in enumerate([lsd.specN1, lsd.specV]):\n",
    "\n",
    "        data_table = Table({\"vel\":lsd.vel, \"stokes\":Stokes})\n",
    "        data_soni = snd.series.SoniSeries(data_table, time_col='vel', val_col='stokes')\n",
    "        data_soni.note_spacing = 0.02\n",
    "        data_soni.pitch_mapper.pitch_map_args[\"zero_point\"] = 0.0\n",
    "        data_soni.pitch_mapper.pitch_map_args['minmax_value'] = [-1*clip, clip]\n",
    "        data_soni.pitch_mapper.pitch_map_args['pitch_range'] = [100, 700]\n",
    "        data_soni.pitch_mapper.pitch_map_args['center_pitch'] = 400\n",
    "        data_soni.sonify()\n",
    "        data_soni.play() \n",
    "        if i==0:\n",
    "            data_soni.write('N1.wav')\n",
    "        else:\n",
    "            data_soni.write('V.wav')\n",
    "\n",
    "    \n",
    "    return(data_soni)"
   ]
  },
  {
   "cell_type": "markdown",
   "id": "63436522",
   "metadata": {},
   "source": [
    "Then we run our custom function on an example LSD profile."
   ]
  },
  {
   "cell_type": "code",
   "execution_count": null,
   "id": "579ea49e",
   "metadata": {},
   "outputs": [],
   "source": [
    "lsd = pol.read_lsd('CalculateBz_tutorialfiles/SampleLSD.lsd')\n",
    "lsd = lsd[np.logical_and(lsd.vel>-50,lsd.vel<150)]\n",
    "fig, ax = lsd.plot()\n",
    "\n",
    "\n",
    "data_soni = sono_lsd(lsd)\n",
    "\n",
    "# The sono_lsd function already does these things, \n",
    "# but you can repeat them using the returned object\n",
    "# data_soni.sonify()\n",
    "# data_soni.play() \n",
    "# data_soni.write('N1.wav')"
   ]
  }
 ],
 "metadata": {
  "interpreter": {
   "hash": "294a0b9bfc79ce88e29f56e11670a78bb3a231581d3d3954ad0b1fa1a01a617d"
  },
  "kernelspec": {
   "display_name": "Python 3.9.7 64-bit ('base': conda)",
   "name": "python3"
  },
  "language_info": {
   "codemirror_mode": {
    "name": "ipython",
    "version": 3
   },
   "file_extension": ".py",
   "mimetype": "text/x-python",
   "name": "python",
   "nbconvert_exporter": "python",
   "pygments_lexer": "ipython3",
   "version": "3.9.7"
  },
  "vscode": {
   "interpreter": {
    "hash": "0d105923ff2751b07541a5477823aa5d88058b2fa83b28e1bf4a447aeb52c9df"
   }
  }
 },
 "nbformat": 4,
 "nbformat_minor": 5
}
